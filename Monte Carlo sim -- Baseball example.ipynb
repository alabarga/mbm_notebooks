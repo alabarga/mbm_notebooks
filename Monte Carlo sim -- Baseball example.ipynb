{
 "cells": [
  {
   "cell_type": "code",
   "execution_count": 1,
   "metadata": {
    "collapsed": false
   },
   "outputs": [],
   "source": [
    "from random import random\n",
    "from __future__ import division"
   ]
  },
  {
   "cell_type": "code",
   "execution_count": 2,
   "metadata": {
    "collapsed": true
   },
   "outputs": [],
   "source": [
    "class Inning(object):\n",
    "    '''\n",
    "    Plays an inning given that each batter has a 50% chance of hitting a \n",
    "    home run and the same probability of making an out.\n",
    "    '''\n",
    "    \n",
    "    def __init__(self):\n",
    "        self.outs = 0\n",
    "        self.runs = 0\n",
    "        self.batters = 0\n",
    "    \n",
    "    def play_ball(self):\n",
    "        while self.outs < 3:\n",
    "            outcome = random()\n",
    "            if outcome <= 0.5:\n",
    "                self.runs += 1\n",
    "            else:\n",
    "                self.outs +=1\n",
    "            self.batters += 1\n",
    "    \n",
    "    def final_runs(self):\n",
    "        self.play_ball()\n",
    "        return self.runs"
   ]
  },
  {
   "cell_type": "code",
   "execution_count": 3,
   "metadata": {
    "collapsed": false
   },
   "outputs": [],
   "source": [
    "innings = [Inning().final_runs() for _ in range(0,5000)]"
   ]
  },
  {
   "cell_type": "code",
   "execution_count": 4,
   "metadata": {
    "collapsed": false
   },
   "outputs": [
    {
     "name": "stdout",
     "output_type": "stream",
     "text": [
      "Average runs scored across 5,000 simulations of an inning: 2.979800\n"
     ]
    }
   ],
   "source": [
    "mean_runs = sum(innings)/ len(innings)\n",
    "print \"Average runs scored across 5,000 simulations of an inning: %f\" % mean_runs"
   ]
  },
  {
   "cell_type": "code",
   "execution_count": 5,
   "metadata": {
    "collapsed": true
   },
   "outputs": [],
   "source": [
    "import matplotlib.pyplot as plt\n",
    "%matplotlib inline"
   ]
  },
  {
   "cell_type": "code",
   "execution_count": 6,
   "metadata": {
    "collapsed": false
   },
   "outputs": [
    {
     "data": {
      "text/plain": [
       "<matplotlib.lines.Line2D at 0x7f06933c2f90>"
      ]
     },
     "execution_count": 6,
     "metadata": {},
     "output_type": "execute_result"
    },
    {
     "data": {
      "image/png": "[encoded data removed]",
      "text/plain": [
       "<matplotlib.figure.Figure at 0x7f06933b3950>"
      ]
     },
     "metadata": {},
     "output_type": "display_data"
    }
   ],
   "source": [
    "plt.figure(figsize=(16,8))\n",
    "\n",
    "plt.hist(innings, bins=50)\n",
    "plt.axvline(mean_runs, c='red', linewidth=2)"
   ]
  },
  {
   "cell_type": "code",
   "execution_count": null,
   "metadata": {
    "collapsed": true
   },
   "outputs": [],
   "source": []
  }
 ],
 "metadata": {
  "kernelspec": {
   "display_name": "Python 2",
   "language": "python",
   "name": "python2"
  },
  "language_info": {
   "codemirror_mode": {
    "name": "ipython",
    "version": 2
   },
   "file_extension": ".py",
   "mimetype": "text/x-python",
   "name": "python",
   "nbconvert_exporter": "python",
   "pygments_lexer": "ipython2",
   "version": "2.7.9"
  }
 },
 "nbformat": 4,
 "nbformat_minor": 0
}
