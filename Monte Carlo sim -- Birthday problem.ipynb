{
 "cells": [
  {
   "cell_type": "code",
   "execution_count": 1,
   "metadata": {
    "collapsed": true
   },
   "outputs": [],
   "source": [
    "from random import randint\n",
    "from collections import Counter\n",
    "from __future__ import division"
   ]
  },
  {
   "cell_type": "code",
   "execution_count": 2,
   "metadata": {
    "collapsed": true
   },
   "outputs": [],
   "source": [
    "class BirthdayProblem(object):\n",
    "    '''\n",
    "    Calculates the percentage of time two people in a room have the same\n",
    "    birthday across 5,000 simulations, given the size of the room\n",
    "    '''\n",
    "    def __init__(self, num_people, num_sims=5000):\n",
    "        self.people = range(0, num_people)\n",
    "        self.num_sims = num_sims\n",
    "    \n",
    "    def generate_birthdays(self):\n",
    "        return [randint(1, 365) for _ in self.people]\n",
    "    \n",
    "    def get_matches(self):\n",
    "        match_table = Counter()\n",
    "        for b in self.generate_birthdays():\n",
    "            match_table[b] += 1\n",
    "        return match_table\n",
    "    \n",
    "    def was_match(self):\n",
    "        top = self.get_matches().most_common(1)\n",
    "        return top[0][1] > 1\n",
    "\n",
    "    def simulate(self):\n",
    "        sims = [self.was_match() for _ in range(0, self.num_sims)]\n",
    "        return sum(sims)/len(sims)"
   ]
  },
  {
   "cell_type": "code",
   "execution_count": 3,
   "metadata": {
    "collapsed": false
   },
   "outputs": [],
   "source": [
    "people = range(1,101)\n",
    "pct_match = [BirthdayProblem(n).simulate() for n in people]"
   ]
  },
  {
   "cell_type": "code",
   "execution_count": 4,
   "metadata": {
    "collapsed": false
   },
   "outputs": [
    {
     "name": "stdout",
     "output_type": "stream",
     "text": [
      "It takes 23 people in the room to make it a 50% chance of matching birthdays\n"
     ]
    }
   ],
   "source": [
    "threshold_50 = people[pct_match.index(next(x for x in pct_match if x > 0.5))]\n",
    "print \"It takes %d people in the room to make it a 50%% chance of matching birthdays\" % threshold_50"
   ]
  },
  {
   "cell_type": "code",
   "execution_count": 5,
   "metadata": {
    "collapsed": true
   },
   "outputs": [],
   "source": [
    "import matplotlib.pyplot as plt\n",
    "%matplotlib inline"
   ]
  },
  {
   "cell_type": "code",
   "execution_count": 6,
   "metadata": {
    "collapsed": false
   },
   "outputs": [
    {
     "data": {
      "text/plain": [
       "<matplotlib.lines.Line2D at 0x7f6830f58d10>"
      ]
     },
     "execution_count": 6,
     "metadata": {},
     "output_type": "execute_result"
    },
    {
     "data": {
      "image/png": "[encoded data removed]",
      "text/plain": [
       "<matplotlib.figure.Figure at 0x7f683302d890>"
      ]
     },
     "metadata": {},
     "output_type": "display_data"
    }
   ],
   "source": [
    "plt.figure(figsize=(16,8))\n",
    "\n",
    "plt.step(people, pct_match)\n",
    "plt.axhline(0.5, c='red', linewidth=2)\n",
    "plt.axvline(threshold_50, c='red', linewidth=2)"
   ]
  },
  {
   "cell_type": "code",
   "execution_count": null,
   "metadata": {
    "collapsed": true
   },
   "outputs": [],
   "source": []
  }
 ],
 "metadata": {
  "kernelspec": {
   "display_name": "Python 2",
   "language": "python",
   "name": "python2"
  },
  "language_info": {
   "codemirror_mode": {
    "name": "ipython",
    "version": 2
   },
   "file_extension": ".py",
   "mimetype": "text/x-python",
   "name": "python",
   "nbconvert_exporter": "python",
   "pygments_lexer": "ipython2",
   "version": "2.7.9"
  }
 },
 "nbformat": 4,
 "nbformat_minor": 0
}
