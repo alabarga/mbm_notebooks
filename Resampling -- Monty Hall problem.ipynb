{
 "cells": [
  {
   "cell_type": "code",
   "execution_count": 1,
   "metadata": {
    "collapsed": true
   },
   "outputs": [],
   "source": [
    "from random import random, randint, seed\n",
    "from tqdm import tqdm\n",
    "from __future__ import division"
   ]
  },
  {
   "cell_type": "code",
   "execution_count": 2,
   "metadata": {
    "collapsed": true
   },
   "outputs": [],
   "source": [
    "# seed(41)"
   ]
  },
  {
   "cell_type": "code",
   "execution_count": 3,
   "metadata": {
    "collapsed": true
   },
   "outputs": [],
   "source": [
    "class MontyHall(object):\n",
    "    '''\n",
    "    Plays the game posited in the classic Monty Hall problem:\n",
    "    https://en.wikipedia.org/wiki/Monty_Hall_problem\n",
    "    '''\n",
    "    def __init__(self):\n",
    "        self.player_pick = randint(0,2)\n",
    "        self.prize_pick = randint(0,2)\n",
    "        self.switch = self.switch_decision()\n",
    "        self.host_reveal = self.host_reveal()\n",
    "        self.final_pick = self.make_final_pick()\n",
    "        self.match = self.was_match()\n",
    "\n",
    "    def switch_decision(self):\n",
    "        return random() >= .5\n",
    "    \n",
    "    def host_reveal(self):\n",
    "        doors = [0,1,2]\n",
    "        if self.prize_pick == self.player_pick:\n",
    "            doors.remove(self.prize_pick)\n",
    "            return doors[0] if random() >= .5 else doors[1]\n",
    "        else:\n",
    "            doors.remove(self.player_pick)\n",
    "            doors.remove(self.prize_pick)\n",
    "            return doors[0]\n",
    "    \n",
    "    def make_final_pick(self):\n",
    "        if self.switch:\n",
    "            doors = [0,1,2]\n",
    "            doors.remove(self.host_reveal)\n",
    "            doors.remove(self.player_pick)\n",
    "            return doors[0]\n",
    "        else:\n",
    "            return self.player_pick\n",
    "    \n",
    "    def was_match(self):\n",
    "        return self.final_pick == self.prize_pick\n",
    "    \n",
    "    def __str__(self):\n",
    "        string = 'Player picked Door {}'.format(self.player_pick)\n",
    "        string += '\\nPrize behind Door {}'.format(self.prize_pick)\n",
    "        string += '\\nHost reveals Door {}'.format(self.host_reveal)\n",
    "        string += '\\nPlayer decides to {}'.format('SWITCH' if self.switch else 'STAY')\n",
    "        string += '\\nPlayer final pick is {}'.format(self.final_pick)\n",
    "        string += '\\nThere {} a match'.format('WAS' if self.match else 'WAS NOT')\n",
    "        return string"
   ]
  },
  {
   "cell_type": "code",
   "execution_count": 4,
   "metadata": {
    "collapsed": false
   },
   "outputs": [],
   "source": [
    "games = [MontyHall() for _ in range(0,100000)]"
   ]
  },
  {
   "cell_type": "code",
   "execution_count": 5,
   "metadata": {
    "collapsed": false
   },
   "outputs": [],
   "source": [
    "switch_match = sum([g.switch and g.match for g in games])\n",
    "switch_nomatch = sum([g.switch and not g.match for g in games])\n",
    "noswitch_match = sum([not g.switch and g.match for g in games])\n",
    "noswitch_nomatch = sum([not g.switch and not g.match for g in games])"
   ]
  },
  {
   "cell_type": "code",
   "execution_count": 6,
   "metadata": {
    "collapsed": false
   },
   "outputs": [
    {
     "name": "stdout",
     "output_type": "stream",
     "text": [
      "By switching, you have a 66.6646692234% chance of winning\n"
     ]
    }
   ],
   "source": [
    "print \"By switching, you have a {}% chance of winning\".format(\n",
    "     switch_match / (switch_match+switch_nomatch) * 100\n",
    ")"
   ]
  },
  {
   "cell_type": "code",
   "execution_count": 7,
   "metadata": {
    "collapsed": false
   },
   "outputs": [
    {
     "name": "stdout",
     "output_type": "stream",
     "text": [
      "By NOT switching, you have a 33.1924863826% chance of winning\n"
     ]
    }
   ],
   "source": [
    "print \"By NOT switching, you have a {}% chance of winning\".format(\n",
    "     noswitch_match / (noswitch_match+noswitch_nomatch) * 100\n",
    ")"
   ]
  },
  {
   "cell_type": "code",
   "execution_count": 8,
   "metadata": {
    "collapsed": false
   },
   "outputs": [],
   "source": [
    "def resample_once(games=100):\n",
    "    # play n games\n",
    "    games = [MontyHall() for _ in range(0,games)]\n",
    "    \n",
    "    # split games up into switch and stay groups (should be about evenly split)\n",
    "    switches = [g for g in games if g.switch]\n",
    "    stays = [g for g in games if not g.switch]\n",
    "    \n",
    "    # resample from each with random integers\n",
    "    resampled_switches = [switches[randint(0,len(switches)-1)] for _ in switches]\n",
    "    resampled_stays = [stays[randint(0,len(stays)-1)] for _ in stays]\n",
    "    \n",
    "    # return True if switching resulted in a match more often than staying\n",
    "    switch_match_pct = sum([g.match for g in resampled_switches]) / len(resampled_switches)\n",
    "    stay_match_pct = sum([g.match for g in resampled_stays]) / len(resampled_stays)\n",
    "    return switch_match_pct > stay_match_pct"
   ]
  },
  {
   "cell_type": "code",
   "execution_count": 9,
   "metadata": {
    "collapsed": true
   },
   "outputs": [],
   "source": [
    "resample_n_times = lambda x: [resample_once() for _ in tqdm(range(0,x))]"
   ]
  },
  {
   "cell_type": "code",
   "execution_count": 10,
   "metadata": {
    "collapsed": false
   },
   "outputs": [
    {
     "name": "stderr",
     "output_type": "stream",
     "text": [
      "100%|██████████| 100000/100000 [01:27<00:00, 1137.31it/s]\n"
     ]
    }
   ],
   "source": [
    "result = resample_n_times(100000)"
   ]
  },
  {
   "cell_type": "code",
   "execution_count": 11,
   "metadata": {
    "collapsed": false
   },
   "outputs": [
    {
     "name": "stdout",
     "output_type": "stream",
     "text": [
      "Switching was the better choice 99.193% of the time\n"
     ]
    }
   ],
   "source": [
    "print 'Switching was the better choice {}% of the time'.format(sum(result)/len(result)*100)"
   ]
  },
  {
   "cell_type": "code",
   "execution_count": 12,
   "metadata": {
    "collapsed": false
   },
   "outputs": [
    {
     "name": "stdout",
     "output_type": "stream",
     "text": [
      "This implies a p-value of 0.00807\n"
     ]
    }
   ],
   "source": [
    "print 'This implies a p-value of {}'.format(1-sum(result)/len(result))"
   ]
  },
  {
   "cell_type": "code",
   "execution_count": null,
   "metadata": {
    "collapsed": true
   },
   "outputs": [],
   "source": []
  }
 ],
 "metadata": {
  "kernelspec": {
   "display_name": "Python 2",
   "language": "python",
   "name": "python2"
  },
  "language_info": {
   "codemirror_mode": {
    "name": "ipython",
    "version": 2
   },
   "file_extension": ".py",
   "mimetype": "text/x-python",
   "name": "python",
   "nbconvert_exporter": "python",
   "pygments_lexer": "ipython2",
   "version": "2.7.9"
  }
 },
 "nbformat": 4,
 "nbformat_minor": 0
}
