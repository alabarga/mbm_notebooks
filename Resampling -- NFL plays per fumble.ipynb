{
 "cells": [
  {
   "cell_type": "code",
   "execution_count": 1,
   "metadata": {
    "collapsed": true
   },
   "outputs": [],
   "source": [
    "import csv\n",
    "from random import randint, seed\n",
    "from tqdm import tqdm\n",
    "from __future__ import division"
   ]
  },
  {
   "cell_type": "code",
   "execution_count": 2,
   "metadata": {
    "collapsed": true
   },
   "outputs": [],
   "source": [
    "# seed(41)"
   ]
  },
  {
   "cell_type": "code",
   "execution_count": 3,
   "metadata": {
    "collapsed": true
   },
   "outputs": [],
   "source": [
    "ppf = []\n",
    "with open('data/plays-per-fumble.csv') as csvfile:\n",
    "    reader = csv.DictReader(csvfile)\n",
    "    for row in reader:\n",
    "        row['2010'] = int(row['2010'])\n",
    "        row['2011'] = int(row['2011'])\n",
    "        row['2012'] = int(row['2012'])\n",
    "        row['2013'] = int(row['2013'])\n",
    "        row['2014'] = int(row['2014'])\n",
    "        ppf.append(row)"
   ]
  },
  {
   "cell_type": "markdown",
   "metadata": {},
   "source": [
    "Data from Cousera, via AdvancedFootballAnalytics:"
   ]
  },
  {
   "cell_type": "code",
   "execution_count": 4,
   "metadata": {
    "collapsed": false
   },
   "outputs": [
    {
     "data": {
      "text/plain": [
       "[{'2010': 89, '2011': 80, '2012': 89, '2013': 49, '2014': 81, 'Team': 'NE'},\n",
       " {'2010': 44, '2011': 42, '2012': 66, '2013': 73, '2014': 64, 'Team': 'BLT'},\n",
       " {'2010': 31, '2011': 77, '2012': 45, '2013': 96, '2014': 39, 'Team': 'CAR'},\n",
       " {'2010': 42, '2011': 52, '2012': 41, '2013': 83, '2014': 67, 'Team': 'SD'},\n",
       " {'2010': 45, '2011': 66, '2012': 61, '2013': 54, '2014': 47, 'Team': 'GB'},\n",
       " {'2010': 40, '2011': 63, '2012': 81, '2013': 38, '2014': 52, 'Team': 'NYG'},\n",
       " {'2010': 50, '2011': 60, '2012': 53, '2013': 51, '2014': 51, 'Team': 'CIN'},\n",
       " {'2010': 43, '2011': 60, '2012': 31, '2013': 64, '2014': 63, 'Team': 'PITT'},\n",
       " {'2010': 65, '2011': 60, '2012': 39, '2013': 53, '2014': 44, 'Team': 'KC'},\n",
       " {'2010': 44, '2011': 37, '2012': 50, '2013': 57, '2014': 66, 'Team': 'JACK'},\n",
       " {'2010': 32, '2011': 47, '2012': 45, '2013': 63, '2014': 63, 'Team': 'CLEV'},\n",
       " {'2010': 57, '2011': 46, '2012': 62, '2013': 41, '2014': 42, 'Team': 'SEA'},\n",
       " {'2010': 49, '2011': 38, '2012': 50, '2013': 48, '2014': 53, 'Team': 'CHIC'},\n",
       " {'2010': 43, '2011': 53, '2012': 41, '2013': 46, '2014': 53, 'Team': 'SF'},\n",
       " {'2010': 47, '2011': 41, '2012': 32, '2013': 68, '2014': 44, 'Team': 'NYJ'},\n",
       " {'2010': 35, '2011': 36, '2012': 49, '2013': 43, '2014': 67, 'Team': 'DEN'},\n",
       " {'2010': 40, '2011': 32, '2012': 67, '2013': 55, '2014': 33, 'Team': 'TB'},\n",
       " {'2010': 41, '2011': 58, '2012': 46, '2013': 38, '2014': 40, 'Team': 'TENN'},\n",
       " {'2010': 33, '2011': 63, '2012': 47, '2013': 38, '2014': 40, 'Team': 'OAK'},\n",
       " {'2010': 43, '2011': 35, '2012': 41, '2013': 63, '2014': 39, 'Team': 'MIA'},\n",
       " {'2010': 29, '2011': 62, '2012': 43, '2013': 35, '2014': 49, 'Team': 'BUFF'},\n",
       " {'2010': 32, '2011': 45, '2012': 29, '2013': 58, '2014': 45, 'Team': 'PHIL'},\n",
       " {'2010': 35, '2011': 41, '2012': 39, '2013': 37, '2014': 34, 'Team': 'WASH'}]"
      ]
     },
     "execution_count": 4,
     "metadata": {},
     "output_type": "execute_result"
    }
   ],
   "source": [
    "ppf"
   ]
  },
  {
   "cell_type": "code",
   "execution_count": 5,
   "metadata": {
    "collapsed": false
   },
   "outputs": [],
   "source": [
    "for team in ppf:\n",
    "    team['mean'] = (team['2010']+team['2011']+team['2012']+team['2013']+team['2014']) / 5"
   ]
  },
  {
   "cell_type": "code",
   "execution_count": 6,
   "metadata": {
    "collapsed": true
   },
   "outputs": [],
   "source": [
    "years = ['2010','2011','2012','2013','2014']"
   ]
  },
  {
   "cell_type": "code",
   "execution_count": 7,
   "metadata": {
    "collapsed": false
   },
   "outputs": [],
   "source": [
    "def resample_once():\n",
    "    rand_ppf = [(randint(0,len(ppf)-1),randint(0,len(years)-1)) for _ in range(0, len(years))]\n",
    "    samp_ppf = [ppf[t][years[y]] for t,y in rand_ppf]\n",
    "    return sum(samp_ppf)/len(samp_ppf)"
   ]
  },
  {
   "cell_type": "code",
   "execution_count": 8,
   "metadata": {
    "collapsed": false
   },
   "outputs": [],
   "source": [
    "resample_n_times = lambda x: [resample_once() for _ in tqdm(range(0,x))]"
   ]
  },
  {
   "cell_type": "code",
   "execution_count": 9,
   "metadata": {
    "collapsed": false
   },
   "outputs": [
    {
     "name": "stderr",
     "output_type": "stream",
     "text": [
      "100%|██████████| 100000/100000 [00:02<00:00, 43487.70it/s]\n"
     ]
    }
   ],
   "source": [
    "result = resample_n_times(100000)"
   ]
  },
  {
   "cell_type": "code",
   "execution_count": 10,
   "metadata": {
    "collapsed": false
   },
   "outputs": [
    {
     "data": {
      "text/plain": [
       "[('NE', 77.6, 0.00012999999999996348),\n",
       " ('BLT', 57.8, 0.12419000000000002),\n",
       " ('CAR', 57.6, 0.12960000000000005),\n",
       " ('SD', 57.0, 0.14766),\n",
       " ('NYG', 54.8, 0.23036),\n",
       " ('GB', 54.6, 0.2389),\n",
       " ('CIN', 53.0, 0.31610000000000005),\n",
       " ('PITT', 52.2, 0.35928000000000004),\n",
       " ('KC', 52.2, 0.35928000000000004),\n",
       " ('JACK', 50.8, 0.44269000000000003),\n",
       " ('CLEV', 50.0, 0.4918),\n",
       " ('SEA', 49.6, 0.51686),\n",
       " ('CHIC', 47.6, 0.64209),\n",
       " ('SF', 47.2, 0.66652),\n",
       " ('NYJ', 46.4, 0.71475),\n",
       " ('DEN', 46.0, 0.73761),\n",
       " ('TB', 45.4, 0.7703599999999999),\n",
       " ('TENN', 44.6, 0.81218),\n",
       " ('OAK', 44.2, 0.83148),\n",
       " ('MIA', 44.2, 0.83148),\n",
       " ('BUFF', 43.6, 0.85867),\n",
       " ('PHIL', 41.8, 0.92301),\n",
       " ('WASH', 37.2, 0.99362)]"
      ]
     },
     "execution_count": 10,
     "metadata": {},
     "output_type": "execute_result"
    }
   ],
   "source": [
    "team_pvals = [\n",
    "    (\n",
    "        team['Team'],\n",
    "        team['mean'],\n",
    "        1-sum(team['mean'] > m for m in result)/len(result)\n",
    "    ) for team in ppf\n",
    "]\n",
    "sorted(team_pvals, key=lambda x: x[1], reverse=True)"
   ]
  },
  {
   "cell_type": "code",
   "execution_count": null,
   "metadata": {
    "collapsed": true
   },
   "outputs": [],
   "source": []
  }
 ],
 "metadata": {
  "kernelspec": {
   "display_name": "Python 2",
   "language": "python",
   "name": "python2"
  },
  "language_info": {
   "codemirror_mode": {
    "name": "ipython",
    "version": 2
   },
   "file_extension": ".py",
   "mimetype": "text/x-python",
   "name": "python",
   "nbconvert_exporter": "python",
   "pygments_lexer": "ipython2",
   "version": "2.7.9"
  }
 },
 "nbformat": 4,
 "nbformat_minor": 0
}
